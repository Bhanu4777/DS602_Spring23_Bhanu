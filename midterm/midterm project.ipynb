{
 "cells": [
  {
   "cell_type": "code",
   "execution_count": 1,
   "id": "dd2550a6",
   "metadata": {},
   "outputs": [],
   "source": [
    "import pandas as pd\n",
    "import numpy as np\n",
    "import matplotlib.pyplot as plt\n",
    "import matplotlib.pyplot as plt"
   ]
  },
  {
   "cell_type": "code",
   "execution_count": 2,
   "id": "8cca1f61",
   "metadata": {},
   "outputs": [],
   "source": [
    "df = pd.read_csv('https://github.com/msaricaumbc/DS_data/blob/master/ds602/dataset_newsletter.csv?raw=true')"
   ]
  },
  {
   "cell_type": "code",
   "execution_count": 3,
   "id": "b564747c",
   "metadata": {},
   "outputs": [],
   "source": [
    "df = df.iloc[:,1:]"
   ]
  },
  {
   "cell_type": "code",
   "execution_count": 4,
   "id": "54bbfdd8",
   "metadata": {},
   "outputs": [
    {
     "data": {
      "text/html": [
       "<div>\n",
       "<style scoped>\n",
       "    .dataframe tbody tr th:only-of-type {\n",
       "        vertical-align: middle;\n",
       "    }\n",
       "\n",
       "    .dataframe tbody tr th {\n",
       "        vertical-align: top;\n",
       "    }\n",
       "\n",
       "    .dataframe thead th {\n",
       "        text-align: right;\n",
       "    }\n",
       "</style>\n",
       "<table border=\"1\" class=\"dataframe\">\n",
       "  <thead>\n",
       "    <tr style=\"text-align: right;\">\n",
       "      <th></th>\n",
       "      <th>title</th>\n",
       "      <th>body</th>\n",
       "      <th>signature</th>\n",
       "      <th>submissiontime</th>\n",
       "      <th>category</th>\n",
       "    </tr>\n",
       "  </thead>\n",
       "  <tbody>\n",
       "    <tr>\n",
       "      <th>0</th>\n",
       "      <td>Mrs. Laurence Class</td>\n",
       "      <td>Because of the upcoming holiday, we will be re...</td>\n",
       "      <td>Jaslynn Laurence</td>\n",
       "      <td>11/18/15 9:26 AM</td>\n",
       "      <td>ANNOUNCEMENTS</td>\n",
       "    </tr>\n",
       "    <tr>\n",
       "      <th>1</th>\n",
       "      <td>Mr. Valle's Winter Break Packets (Cornell/Hamp...</td>\n",
       "      <td>All my Cornell, Hampton, and Princeton student...</td>\n",
       "      <td>Mr. Sam Valle</td>\n",
       "      <td>12/16/15 9:26 PM</td>\n",
       "      <td>ANNOUNCEMENTS</td>\n",
       "    </tr>\n",
       "    <tr>\n",
       "      <th>2</th>\n",
       "      <td>Hours of Operation</td>\n",
       "      <td>Parents/Guardians,    We will gladly assist yo...</td>\n",
       "      <td>Ms. Ellis</td>\n",
       "      <td>11/18/15 3:30 PM</td>\n",
       "      <td>ANNOUNCEMENTS</td>\n",
       "    </tr>\n",
       "    <tr>\n",
       "      <th>3</th>\n",
       "      <td>Character Education</td>\n",
       "      <td>CMIT South scholars will continue to work on v...</td>\n",
       "      <td>Ch.Ed. Team  Room 163</td>\n",
       "      <td>11/15/15 4:49 PM</td>\n",
       "      <td>ANNOUNCEMENTS</td>\n",
       "    </tr>\n",
       "    <tr>\n",
       "      <th>4</th>\n",
       "      <td>CMIT Students Connecting with Students Around ...</td>\n",
       "      <td>A couple of classes have had the opportunity t...</td>\n",
       "      <td>Srta. Dickerson</td>\n",
       "      <td>11/16/15 5:21 AM</td>\n",
       "      <td>ANNOUNCEMENTS</td>\n",
       "    </tr>\n",
       "  </tbody>\n",
       "</table>\n",
       "</div>"
      ],
      "text/plain": [
       "                                               title  \\\n",
       "0                                Mrs. Laurence Class   \n",
       "1  Mr. Valle's Winter Break Packets (Cornell/Hamp...   \n",
       "2                                 Hours of Operation   \n",
       "3                                Character Education   \n",
       "4  CMIT Students Connecting with Students Around ...   \n",
       "\n",
       "                                                body              signature  \\\n",
       "0  Because of the upcoming holiday, we will be re...       Jaslynn Laurence   \n",
       "1  All my Cornell, Hampton, and Princeton student...          Mr. Sam Valle   \n",
       "2  Parents/Guardians,    We will gladly assist yo...              Ms. Ellis   \n",
       "3  CMIT South scholars will continue to work on v...  Ch.Ed. Team  Room 163   \n",
       "4  A couple of classes have had the opportunity t...        Srta. Dickerson   \n",
       "\n",
       "     submissiontime       category  \n",
       "0  11/18/15 9:26 AM  ANNOUNCEMENTS  \n",
       "1  12/16/15 9:26 PM  ANNOUNCEMENTS  \n",
       "2  11/18/15 3:30 PM  ANNOUNCEMENTS  \n",
       "3  11/15/15 4:49 PM  ANNOUNCEMENTS  \n",
       "4  11/16/15 5:21 AM  ANNOUNCEMENTS  "
      ]
     },
     "execution_count": 4,
     "metadata": {},
     "output_type": "execute_result"
    }
   ],
   "source": [
    "df.head()"
   ]
  },
  {
   "cell_type": "code",
   "execution_count": 5,
   "id": "bb7cbc21",
   "metadata": {},
   "outputs": [
    {
     "data": {
      "text/plain": [
       "(19607, 5)"
      ]
     },
     "execution_count": 5,
     "metadata": {},
     "output_type": "execute_result"
    }
   ],
   "source": [
    "df.shape"
   ]
  },
  {
   "cell_type": "code",
   "execution_count": 6,
   "id": "61b3573b",
   "metadata": {},
   "outputs": [
    {
     "data": {
      "text/plain": [
       "title             object\n",
       "body              object\n",
       "signature         object\n",
       "submissiontime    object\n",
       "category          object\n",
       "dtype: object"
      ]
     },
     "execution_count": 6,
     "metadata": {},
     "output_type": "execute_result"
    }
   ],
   "source": [
    "df.dtypes"
   ]
  },
  {
   "cell_type": "code",
   "execution_count": 7,
   "id": "913a2885",
   "metadata": {},
   "outputs": [
    {
     "data": {
      "image/png": "[encoded data removed]",
      "text/plain": [
       "<Figure size 432x288 with 1 Axes>"
      ]
     },
     "metadata": {
      "needs_background": "light"
     },
     "output_type": "display_data"
    }
   ],
   "source": [
    "# from the plot we can say that the data is imbalanced \n",
    "df['category'].value_counts().plot(kind='bar')\n",
    "plt.show()"
   ]
  },
  {
   "cell_type": "code",
   "execution_count": 8,
   "id": "c81a6cd6",
   "metadata": {},
   "outputs": [
    {
     "data": {
      "image/png": "[encoded data removed]",
      "text/plain": [
       "<Figure size 432x288 with 1 Axes>"
      ]
     },
     "metadata": {
      "needs_background": "light"
     },
     "output_type": "display_data"
    }
   ],
   "source": [
    "# top 20 signatures with most occurance in the dataset \n",
    "df['signature'].value_counts().head(20).plot(kind='bar')\n",
    "plt.show()"
   ]
  },
  {
   "cell_type": "markdown",
   "id": "84c2ef30",
   "metadata": {},
   "source": [
    "# Data Cleaning"
   ]
  },
  {
   "cell_type": "markdown",
   "id": "1f6fe4d6",
   "metadata": {},
   "source": [
    "Checking for Nulls"
   ]
  },
  {
   "cell_type": "code",
   "execution_count": 9,
   "id": "ef9daab2",
   "metadata": {},
   "outputs": [
    {
     "data": {
      "text/plain": [
       "title              10\n",
       "body                3\n",
       "signature         400\n",
       "submissiontime      0\n",
       "category            0\n",
       "dtype: int64"
      ]
     },
     "execution_count": 9,
     "metadata": {},
     "output_type": "execute_result"
    }
   ],
   "source": [
    "df.isnull().sum()"
   ]
  },
  {
   "cell_type": "markdown",
   "id": "042832f1",
   "metadata": {},
   "source": [
    "Dropping Nulls"
   ]
  },
  {
   "cell_type": "code",
   "execution_count": 10,
   "id": "6cddf032",
   "metadata": {},
   "outputs": [],
   "source": [
    "df = df.dropna()\n",
    "# dropped records with nulls as they contribute less than 2% of entire data"
   ]
  },
  {
   "cell_type": "markdown",
   "id": "9549ebf3",
   "metadata": {},
   "source": [
    "Type Casting all the Columns into String"
   ]
  },
  {
   "cell_type": "code",
   "execution_count": 11,
   "id": "679f312f",
   "metadata": {},
   "outputs": [],
   "source": [
    "df = df.astype(str)"
   ]
  },
  {
   "cell_type": "markdown",
   "id": "46bd1402",
   "metadata": {},
   "source": [
    "Created a method to convert text to lowercase and remove special characters from the text"
   ]
  },
  {
   "cell_type": "code",
   "execution_count": 12,
   "id": "4e3126f9",
   "metadata": {},
   "outputs": [],
   "source": [
    "import re\n",
    "def clean(x):\n",
    "    x = x.lower()\n",
    "    return re.sub(r'[^\\w\\s]','',x)"
   ]
  },
  {
   "cell_type": "code",
   "execution_count": 13,
   "id": "a2477d46",
   "metadata": {},
   "outputs": [],
   "source": [
    "# cleaned body, signature and title columns\n",
    "df['body'] = df['body'].apply(clean)\n",
    "df['signature'] = df['signature'].apply(clean)\n",
    "df['title'] = df['title'].apply(clean)"
   ]
  },
  {
   "cell_type": "code",
   "execution_count": 14,
   "id": "764d4b53",
   "metadata": {},
   "outputs": [],
   "source": [
    "df['submissiontime'] = df['submissiontime'].apply(lambda x: x.split()[0])"
   ]
  },
  {
   "cell_type": "code",
   "execution_count": 15,
   "id": "c69ff974",
   "metadata": {},
   "outputs": [
    {
     "data": {
      "text/plain": [
       "(19197, 5)"
      ]
     },
     "execution_count": 15,
     "metadata": {},
     "output_type": "execute_result"
    }
   ],
   "source": [
    "df.shape"
   ]
  },
  {
   "cell_type": "markdown",
   "id": "9f69e8d3",
   "metadata": {},
   "source": [
    "Removed records with empty string and blank space in body and signature columns"
   ]
  },
  {
   "cell_type": "code",
   "execution_count": 16,
   "id": "af3e4412",
   "metadata": {},
   "outputs": [],
   "source": [
    "# after removing special characters in the data, few of the records are left with the empty strings and blank spaces\n",
    "# now removed all the records with the empty strings and blank spaces \n",
    "df.drop(df[df['body'] == ''].index,inplace=True)\n",
    "df.drop(df[df['body'] == ' '].index,inplace=True)\n",
    "df.drop(df[df['signature'] == ''].index,inplace=True)\n",
    "df.drop(df[df['signature'] == ' '].index,inplace=True)"
   ]
  },
  {
   "cell_type": "code",
   "execution_count": 17,
   "id": "a5a6dc7a",
   "metadata": {},
   "outputs": [
    {
     "data": {
      "text/plain": [
       "(18891, 5)"
      ]
     },
     "execution_count": 17,
     "metadata": {},
     "output_type": "execute_result"
    }
   ],
   "source": [
    "df.shape"
   ]
  },
  {
   "cell_type": "markdown",
   "id": "a78745dc",
   "metadata": {},
   "source": [
    "Removed Duplicates and dropped submissiontime column"
   ]
  },
  {
   "cell_type": "code",
   "execution_count": 18,
   "id": "c295629e",
   "metadata": {},
   "outputs": [
    {
     "data": {
      "text/html": [
       "<div>\n",
       "<style scoped>\n",
       "    .dataframe tbody tr th:only-of-type {\n",
       "        vertical-align: middle;\n",
       "    }\n",
       "\n",
       "    .dataframe tbody tr th {\n",
       "        vertical-align: top;\n",
       "    }\n",
       "\n",
       "    .dataframe thead th {\n",
       "        text-align: right;\n",
       "    }\n",
       "</style>\n",
       "<table border=\"1\" class=\"dataframe\">\n",
       "  <thead>\n",
       "    <tr style=\"text-align: right;\">\n",
       "      <th></th>\n",
       "      <th>title</th>\n",
       "      <th>body</th>\n",
       "      <th>signature</th>\n",
       "      <th>category</th>\n",
       "    </tr>\n",
       "  </thead>\n",
       "  <tbody>\n",
       "    <tr>\n",
       "      <th>0</th>\n",
       "      <td>mrs laurence class</td>\n",
       "      <td>because of the upcoming holiday we will be rev...</td>\n",
       "      <td>jaslynn laurence</td>\n",
       "      <td>ANNOUNCEMENTS</td>\n",
       "    </tr>\n",
       "    <tr>\n",
       "      <th>1</th>\n",
       "      <td>mr valles winter break packets cornellhamptonp...</td>\n",
       "      <td>all my cornell hampton and princeton students ...</td>\n",
       "      <td>mr sam valle</td>\n",
       "      <td>ANNOUNCEMENTS</td>\n",
       "    </tr>\n",
       "    <tr>\n",
       "      <th>2</th>\n",
       "      <td>hours of operation</td>\n",
       "      <td>parentsguardians    we will gladly assist you ...</td>\n",
       "      <td>ms ellis</td>\n",
       "      <td>ANNOUNCEMENTS</td>\n",
       "    </tr>\n",
       "    <tr>\n",
       "      <th>3</th>\n",
       "      <td>character education</td>\n",
       "      <td>cmit south scholars will continue to work on v...</td>\n",
       "      <td>ched team  room 163</td>\n",
       "      <td>ANNOUNCEMENTS</td>\n",
       "    </tr>\n",
       "    <tr>\n",
       "      <th>4</th>\n",
       "      <td>cmit students connecting with students around ...</td>\n",
       "      <td>a couple of classes have had the opportunity t...</td>\n",
       "      <td>srta dickerson</td>\n",
       "      <td>ANNOUNCEMENTS</td>\n",
       "    </tr>\n",
       "    <tr>\n",
       "      <th>...</th>\n",
       "      <td>...</td>\n",
       "      <td>...</td>\n",
       "      <td>...</td>\n",
       "      <td>...</td>\n",
       "    </tr>\n",
       "    <tr>\n",
       "      <th>19602</th>\n",
       "      <td>ms coholics science classes</td>\n",
       "      <td>hello all  this week biogeochem students will ...</td>\n",
       "      <td>suzanne coholic high school science teacher  s...</td>\n",
       "      <td>ANNOUNCEMENTS</td>\n",
       "    </tr>\n",
       "    <tr>\n",
       "      <th>19603</th>\n",
       "      <td>ap exams</td>\n",
       "      <td>clock is ticking and we have four months until...</td>\n",
       "      <td>nabil siddiqui</td>\n",
       "      <td>ANNOUNCEMENTS</td>\n",
       "    </tr>\n",
       "    <tr>\n",
       "      <th>19604</th>\n",
       "      <td>ever thought of becoming a software engineer</td>\n",
       "      <td>this after school club can benefit all the com...</td>\n",
       "      <td>nabil siddiqui</td>\n",
       "      <td>CLUBS</td>\n",
       "    </tr>\n",
       "    <tr>\n",
       "      <th>19605</th>\n",
       "      <td>last call womens lacrosse interest</td>\n",
       "      <td>last call the womens lacrosse program is havin...</td>\n",
       "      <td>serey sok cmit womens lacrosse  womens soccer ...</td>\n",
       "      <td>CLUBS</td>\n",
       "    </tr>\n",
       "    <tr>\n",
       "      <th>19606</th>\n",
       "      <td>clarinetists flautist violinist violists trum...</td>\n",
       "      <td>orchestraconcert club   we are doing a mid yea...</td>\n",
       "      <td>russell carter</td>\n",
       "      <td>CLUBS</td>\n",
       "    </tr>\n",
       "  </tbody>\n",
       "</table>\n",
       "<p>16268 rows × 4 columns</p>\n",
       "</div>"
      ],
      "text/plain": [
       "                                                   title  \\\n",
       "0                                     mrs laurence class   \n",
       "1      mr valles winter break packets cornellhamptonp...   \n",
       "2                                     hours of operation   \n",
       "3                                    character education   \n",
       "4      cmit students connecting with students around ...   \n",
       "...                                                  ...   \n",
       "19602                        ms coholics science classes   \n",
       "19603                                          ap exams    \n",
       "19604       ever thought of becoming a software engineer   \n",
       "19605                 last call womens lacrosse interest   \n",
       "19606   clarinetists flautist violinist violists trum...   \n",
       "\n",
       "                                                    body  \\\n",
       "0      because of the upcoming holiday we will be rev...   \n",
       "1      all my cornell hampton and princeton students ...   \n",
       "2      parentsguardians    we will gladly assist you ...   \n",
       "3      cmit south scholars will continue to work on v...   \n",
       "4      a couple of classes have had the opportunity t...   \n",
       "...                                                  ...   \n",
       "19602  hello all  this week biogeochem students will ...   \n",
       "19603  clock is ticking and we have four months until...   \n",
       "19604  this after school club can benefit all the com...   \n",
       "19605  last call the womens lacrosse program is havin...   \n",
       "19606  orchestraconcert club   we are doing a mid yea...   \n",
       "\n",
       "                                               signature       category  \n",
       "0                                       jaslynn laurence  ANNOUNCEMENTS  \n",
       "1                                           mr sam valle  ANNOUNCEMENTS  \n",
       "2                                               ms ellis  ANNOUNCEMENTS  \n",
       "3                                    ched team  room 163  ANNOUNCEMENTS  \n",
       "4                                         srta dickerson  ANNOUNCEMENTS  \n",
       "...                                                  ...            ...  \n",
       "19602  suzanne coholic high school science teacher  s...  ANNOUNCEMENTS  \n",
       "19603                                     nabil siddiqui  ANNOUNCEMENTS  \n",
       "19604                                     nabil siddiqui          CLUBS  \n",
       "19605  serey sok cmit womens lacrosse  womens soccer ...          CLUBS  \n",
       "19606                                     russell carter          CLUBS  \n",
       "\n",
       "[16268 rows x 4 columns]"
      ]
     },
     "execution_count": 18,
     "metadata": {},
     "output_type": "execute_result"
    }
   ],
   "source": [
    "\n",
    "# removing duplicates from the data with actually make the data more clear and model will able to learn the insights more accurate\n",
    "new_df = df.drop(['submissiontime'],axis=1)\n",
    "new_df.drop_duplicates(inplace=True)\n",
    "new_df"
   ]
  },
  {
   "cell_type": "code",
   "execution_count": 19,
   "id": "59150a96",
   "metadata": {},
   "outputs": [
    {
     "data": {
      "text/plain": [
       "(16268, 4)"
      ]
     },
     "execution_count": 19,
     "metadata": {},
     "output_type": "execute_result"
    }
   ],
   "source": [
    "new_df.shape"
   ]
  },
  {
   "cell_type": "markdown",
   "id": "01c1cb63",
   "metadata": {},
   "source": [
    "Concated all the values features to one coulumn"
   ]
  },
  {
   "cell_type": "code",
   "execution_count": 20,
   "id": "2c00a28e",
   "metadata": {},
   "outputs": [
    {
     "data": {
      "text/html": [
       "<div>\n",
       "<style scoped>\n",
       "    .dataframe tbody tr th:only-of-type {\n",
       "        vertical-align: middle;\n",
       "    }\n",
       "\n",
       "    .dataframe tbody tr th {\n",
       "        vertical-align: top;\n",
       "    }\n",
       "\n",
       "    .dataframe thead th {\n",
       "        text-align: right;\n",
       "    }\n",
       "</style>\n",
       "<table border=\"1\" class=\"dataframe\">\n",
       "  <thead>\n",
       "    <tr style=\"text-align: right;\">\n",
       "      <th></th>\n",
       "      <th>X</th>\n",
       "      <th>y</th>\n",
       "    </tr>\n",
       "  </thead>\n",
       "  <tbody>\n",
       "    <tr>\n",
       "      <th>0</th>\n",
       "      <td>mrs laurence class because of the upcoming hol...</td>\n",
       "      <td>ANNOUNCEMENTS</td>\n",
       "    </tr>\n",
       "    <tr>\n",
       "      <th>1</th>\n",
       "      <td>mr valles winter break packets cornellhamptonp...</td>\n",
       "      <td>ANNOUNCEMENTS</td>\n",
       "    </tr>\n",
       "    <tr>\n",
       "      <th>2</th>\n",
       "      <td>hours of operation parentsguardians    we will...</td>\n",
       "      <td>ANNOUNCEMENTS</td>\n",
       "    </tr>\n",
       "    <tr>\n",
       "      <th>3</th>\n",
       "      <td>character education cmit south scholars will c...</td>\n",
       "      <td>ANNOUNCEMENTS</td>\n",
       "    </tr>\n",
       "    <tr>\n",
       "      <th>4</th>\n",
       "      <td>cmit students connecting with students around ...</td>\n",
       "      <td>ANNOUNCEMENTS</td>\n",
       "    </tr>\n",
       "    <tr>\n",
       "      <th>...</th>\n",
       "      <td>...</td>\n",
       "      <td>...</td>\n",
       "    </tr>\n",
       "    <tr>\n",
       "      <th>19602</th>\n",
       "      <td>ms coholics science classes hello all  this we...</td>\n",
       "      <td>ANNOUNCEMENTS</td>\n",
       "    </tr>\n",
       "    <tr>\n",
       "      <th>19603</th>\n",
       "      <td>ap exams  clock is ticking and we have four mo...</td>\n",
       "      <td>ANNOUNCEMENTS</td>\n",
       "    </tr>\n",
       "    <tr>\n",
       "      <th>19604</th>\n",
       "      <td>ever thought of becoming a software engineer t...</td>\n",
       "      <td>CLUBS</td>\n",
       "    </tr>\n",
       "    <tr>\n",
       "      <th>19605</th>\n",
       "      <td>last call womens lacrosse interest last call t...</td>\n",
       "      <td>CLUBS</td>\n",
       "    </tr>\n",
       "    <tr>\n",
       "      <th>19606</th>\n",
       "      <td>clarinetists flautist violinist violists trum...</td>\n",
       "      <td>CLUBS</td>\n",
       "    </tr>\n",
       "  </tbody>\n",
       "</table>\n",
       "<p>16268 rows × 2 columns</p>\n",
       "</div>"
      ],
      "text/plain": [
       "                                                       X              y\n",
       "0      mrs laurence class because of the upcoming hol...  ANNOUNCEMENTS\n",
       "1      mr valles winter break packets cornellhamptonp...  ANNOUNCEMENTS\n",
       "2      hours of operation parentsguardians    we will...  ANNOUNCEMENTS\n",
       "3      character education cmit south scholars will c...  ANNOUNCEMENTS\n",
       "4      cmit students connecting with students around ...  ANNOUNCEMENTS\n",
       "...                                                  ...            ...\n",
       "19602  ms coholics science classes hello all  this we...  ANNOUNCEMENTS\n",
       "19603  ap exams  clock is ticking and we have four mo...  ANNOUNCEMENTS\n",
       "19604  ever thought of becoming a software engineer t...          CLUBS\n",
       "19605  last call womens lacrosse interest last call t...          CLUBS\n",
       "19606   clarinetists flautist violinist violists trum...          CLUBS\n",
       "\n",
       "[16268 rows x 2 columns]"
      ]
     },
     "execution_count": 20,
     "metadata": {},
     "output_type": "execute_result"
    }
   ],
   "source": [
    "final_df = pd.DataFrame(columns=['X', 'y'])\n",
    "final_df['X'] = new_df['title'] + \" \" + new_df['body'] +\" \"+ new_df['signature']\n",
    "final_df['y'] = new_df['category']\n",
    "final_df"
   ]
  },
  {
   "cell_type": "code",
   "execution_count": 21,
   "id": "5bbbb0d2",
   "metadata": {},
   "outputs": [
    {
     "data": {
      "image/png": "[encoded data removed]",
      "text/plain": [
       "<Figure size 432x288 with 1 Axes>"
      ]
     },
     "metadata": {
      "needs_background": "light"
     },
     "output_type": "display_data"
    }
   ],
   "source": [
    "# the contribution of each category after data cleaning\n",
    "final_df['y'].value_counts().plot(kind='bar')\n",
    "plt.show()"
   ]
  },
  {
   "cell_type": "markdown",
   "id": "abf03df2",
   "metadata": {},
   "source": [
    "# Data Transformations"
   ]
  },
  {
   "cell_type": "markdown",
   "id": "fcf490cf",
   "metadata": {},
   "source": [
    "Spliting data into test and train"
   ]
  },
  {
   "cell_type": "code",
   "execution_count": 22,
   "id": "09d012f4",
   "metadata": {},
   "outputs": [],
   "source": [
    "from sklearn.model_selection import train_test_split\n",
    "from sklearn.preprocessing import LabelEncoder\n",
    "\n",
    "X = final_df['X']\n",
    "# transformed target categorical column into numerical column using LableEncoder \n",
    "le = LabelEncoder()\n",
    "y = le.fit_transform(final_df['y'])\n",
    "X_train, X_test, y_train, y_test = train_test_split(X, y, test_size=0.20)"
   ]
  },
  {
   "cell_type": "markdown",
   "id": "cdb7703d",
   "metadata": {},
   "source": [
    "Used Vectorizer to transform Text data to Numerical data"
   ]
  },
  {
   "cell_type": "code",
   "execution_count": 23,
   "id": "23ddf66b",
   "metadata": {},
   "outputs": [],
   "source": [
    "from sklearn.feature_extraction.text import CountVectorizer, TfidfVectorizer\n",
    "\n",
    "cv = CountVectorizer()\n",
    "# transformed training data into vectorized data\n",
    "X_train_cv = cv.fit_transform(X_train).toarray()"
   ]
  },
  {
   "cell_type": "markdown",
   "id": "30e580ef",
   "metadata": {},
   "source": [
    "# Model Fitting"
   ]
  },
  {
   "cell_type": "code",
   "execution_count": 24,
   "id": "1cc7cdff",
   "metadata": {},
   "outputs": [
    {
     "name": "stderr",
     "output_type": "stream",
     "text": [
      "C:\\Users\\priya\\anaconda3\\lib\\site-packages\\sklearn\\linear_model\\_logistic.py:814: ConvergenceWarning: lbfgs failed to converge (status=1):\n",
      "STOP: TOTAL NO. of ITERATIONS REACHED LIMIT.\n",
      "\n",
      "Increase the number of iterations (max_iter) or scale the data as shown in:\n",
      "    https://scikit-learn.org/stable/modules/preprocessing.html\n",
      "Please also refer to the documentation for alternative solver options:\n",
      "    https://scikit-learn.org/stable/modules/linear_model.html#logistic-regression\n",
      "  n_iter_i = _check_optimize_result(\n"
     ]
    },
    {
     "data": {
      "text/plain": [
       "LogisticRegression()"
      ]
     },
     "execution_count": 24,
     "metadata": {},
     "output_type": "execute_result"
    }
   ],
   "source": [
    "from sklearn.linear_model import LogisticRegression\n",
    "\n",
    "\n",
    "lm = LogisticRegression()\n",
    "lm.fit(X_train_cv,y_train)"
   ]
  },
  {
   "cell_type": "code",
   "execution_count": 25,
   "id": "1e3d5dcf",
   "metadata": {},
   "outputs": [
    {
     "data": {
      "text/plain": [
       "0.7012907191149355"
      ]
     },
     "execution_count": 25,
     "metadata": {},
     "output_type": "execute_result"
    }
   ],
   "source": [
    "X_test_cv = cv.transform(X_test).toarray()\n",
    "lm.score(X_test_cv,y_test)"
   ]
  },
  {
   "cell_type": "code",
   "execution_count": 26,
   "id": "a2459b9c",
   "metadata": {},
   "outputs": [
    {
     "name": "stdout",
     "output_type": "stream",
     "text": [
      "Scores on Training Data\n",
      "\n",
      "                   precision    recall  f1-score   support\n",
      "\n",
      "     ACHIEVEMENTS       1.00      0.69      0.82        13\n",
      "    ANNOUNCEMENTS       0.94      0.95      0.95      6849\n",
      "        ATHLETICS       0.97      0.90      0.94       121\n",
      "    BREAKING NEWS       0.92      0.91      0.91      2448\n",
      "            CLUBS       0.98      0.98      0.98       234\n",
      " DONATIONS NEEDED       0.91      0.97      0.94        31\n",
      "      FIELD TRIPS       0.97      0.93      0.95        40\n",
      "   IMPORTANT NEWS       0.88      0.83      0.86       317\n",
      "              PTO       0.89      0.93      0.91       900\n",
      " STUDENT THOUGHTS       0.00      0.00      0.00         2\n",
      "  UPCOMING EVENTS       0.88      0.85      0.86      2042\n",
      "VOLUNTEERS NEEDED       0.89      0.94      0.91        17\n",
      "\n",
      "         accuracy                           0.92     13014\n",
      "        macro avg       0.85      0.82      0.84     13014\n",
      "     weighted avg       0.92      0.92      0.92     13014\n",
      "\n"
     ]
    }
   ],
   "source": [
    "from sklearn.metrics import classification_report\n",
    "print('Scores on Training Data\\n')\n",
    "lm_predictions_train = lm.predict(X_train_cv)\n",
    "lm_training_score = classification_report(y_train, lm_predictions_train,target_names=le.classes_,zero_division=0)\n",
    "print(lm_training_score)"
   ]
  },
  {
   "cell_type": "code",
   "execution_count": 27,
   "id": "67e7b5ac",
   "metadata": {},
   "outputs": [
    {
     "name": "stdout",
     "output_type": "stream",
     "text": [
      "Scores on Testing Data\n",
      "\n",
      "                   precision    recall  f1-score   support\n",
      "\n",
      "     ACHIEVEMENTS       0.00      0.00      0.00         5\n",
      "    ANNOUNCEMENTS       0.77      0.82      0.79      1712\n",
      "        ATHLETICS       0.70      0.59      0.64        39\n",
      "    BREAKING NEWS       0.62      0.58      0.60       599\n",
      "            CLUBS       0.71      0.66      0.69        53\n",
      " DONATIONS NEEDED       0.83      0.33      0.48        15\n",
      "      FIELD TRIPS       0.40      0.20      0.27        10\n",
      "   IMPORTANT NEWS       0.42      0.35      0.38        92\n",
      "              PTO       0.74      0.67      0.70       239\n",
      " STUDENT THOUGHTS       0.00      0.00      0.00         1\n",
      "  UPCOMING EVENTS       0.57      0.55      0.56       483\n",
      "VOLUNTEERS NEEDED       1.00      0.17      0.29         6\n",
      "\n",
      "         accuracy                           0.70      3254\n",
      "        macro avg       0.56      0.41      0.45      3254\n",
      "     weighted avg       0.70      0.70      0.70      3254\n",
      "\n"
     ]
    }
   ],
   "source": [
    "\n",
    "print('Scores on Testing Data\\n')\n",
    "lm_predictions_test = lm.predict(X_test_cv)\n",
    "lm_testing_score = classification_report(y_test, lm_predictions_test,target_names=le.classes_,zero_division=0)\n",
    "print(lm_testing_score)"
   ]
  },
  {
   "cell_type": "code",
   "execution_count": 28,
   "id": "f983463f",
   "metadata": {},
   "outputs": [],
   "source": [
    "# from sklearn.model_selection import GridSearchCV\n",
    "# params = {'C': [0.01, 0.1]}\n",
    "# gcv = GridSearchCV(estimator=lm,\n",
    "#                        param_grid=params, \n",
    "#                        cv=5, \n",
    "#                       )\n",
    "# gcv = gcv.fit(X_train_cv, y_train)\n",
    "# print('Best model:\\n')\n",
    "# print(gcv.best_estimator_)\n",
    "\n",
    "# print(f'\\nValidation score: {gcv.best_score_:.2%}\\n')\n",
    "\n",
    "# preds = gcv.predict(X_test_cv)\n",
    "# print('\\nResults:\\n')"
   ]
  },
  {
   "cell_type": "code",
   "execution_count": 29,
   "id": "4d8796d5",
   "metadata": {},
   "outputs": [],
   "source": [
    "# from sklearn.ensemble import RandomForestClassifier\n",
    "\n",
    "# rm = RandomForestClassifier()\n",
    "# rm.fit(X_train_cv,y_train)"
   ]
  },
  {
   "cell_type": "code",
   "execution_count": 30,
   "id": "46f2fda6",
   "metadata": {},
   "outputs": [],
   "source": [
    "# rm.score(X_test_cv, y_test)"
   ]
  },
  {
   "cell_type": "markdown",
   "id": "16c66026",
   "metadata": {},
   "source": [
    "# Conclusion\n",
    "- As the data is imbalanced accuracy is not a good metric to consider, F1 score will be better metric to draw the conclusion\n",
    "- The model did not perform well in predicting few of the categores as they very few in number, Achivements and student thoughts were not predicted well\n",
    "- The model has the symptoms of overfitting as the training score is greater than testing score\n",
    "- GridSearchCv was taking longer time to run the cell,thats the reason why I commented out the cell\n",
    "- Similar case with random forest it is taking longer time to run the cell but giving the worst results than logestic regression \n",
    "- By giving the model access to a larger and more varied dataset, greater data collection can help to solve this problem of overfitting\n"
   ]
  },
  {
   "cell_type": "code",
   "execution_count": null,
   "id": "138fb4ff",
   "metadata": {},
   "outputs": [],
   "source": []
  }
 ],
 "metadata": {
  "kernelspec": {
   "display_name": "Python 3 (ipykernel)",
   "language": "python",
   "name": "python3"
  },
  "language_info": {
   "codemirror_mode": {
    "name": "ipython",
    "version": 3
   },
   "file_extension": ".py",
   "mimetype": "text/x-python",
   "name": "python",
   "nbconvert_exporter": "python",
   "pygments_lexer": "ipython3",
   "version": "3.9.12"
  }
 },
 "nbformat": 4,
 "nbformat_minor": 5
}
