{
 "cells": [
  {
   "cell_type": "markdown",
   "id": "57771d6f",
   "metadata": {},
   "source": [
    "# Week 3 Lab"
   ]
  },
  {
   "cell_type": "markdown",
   "id": "ccb647fd",
   "metadata": {},
   "source": [
    "## Questions:\n",
    "- Differences between supervised and unsupervised learning?  \n",
    "- Differences between classification and regression?  \n",
    "- Classification and regression are the only types of supervised learning? "
   ]
  },
  {
   "cell_type": "markdown",
   "id": "03e12e71",
   "metadata": {},
   "source": []
  },
  {
   "cell_type": "markdown",
   "id": "6979a2c0",
   "metadata": {},
   "source": [
    "A kind of machine learning called supervised learning teaches the algorithm to predict output variables, also known as dependent variables or labels, based on input variables, also known as independent variables or features, and the matching output labels. Each data point in the dataset has a corresponding output label since the input data is labeled. In supervised learning, the objective is to develop a mapping function that can correctly anticipate the output labels for brand-new, unexplored data points.\n",
    "Unsupervised learning, on the other hand, is a sort of machine learning in which the algorithm learns to recognize patterns in the input data in the absence of any associated output labels. As the incoming data is unlabeled, the algorithm must independently identify the underlying structure and connections in the data. Unsupervised learning's objective is to discover the data's innate structure and patterns—such as clustering or dimensionality reduction—without the use of a specified target variable.\n",
    "The main differences between two of them are:\n",
    "Labeled data are necessary for supervised learning, but not for unsupervised learning.\n",
    "Whereas the objective of supervised learning is to make predictions about the output variable based on the input variables, the objective of unsupervised learning is to find patterns in the input data.\n",
    "In contrast to unsupervised learning algorithms, which may be employed for clustering or dimensionality reduction, supervised learning algorithms can be used to classification or regression issues.\n",
    "With supervised learning, the model's performance can be assessed using metrics like accuracy or error rate, however in unsupervised learning, the assessment of the model is frequently more arbitrary and depends on how comprehensible and practical the learnt patterns are."
   ]
  },
  {
   "cell_type": "markdown",
   "id": "9a27e6c0",
   "metadata": {},
   "source": [
    "Two significant machine learning tasks that require generating predictions based on input data are classification and regression. The type of output that categorization and regression generate is their primary point of distinction.\n",
    "\n",
    "The result of classification is a label or categorical variable that is applied to the input data. A mapping between the input features and the output label must be learned. A class or category, such as \"spam\" or \"not spam,\" \"dog\" or \"cat,\" or \"positive\" or \"negative,\" is often used as the output label. For applications like email spam filtering, picture recognition, and sentiment analysis, classification algorithms are frequently utilized.\n",
    "\n",
    "Regression produces a continuous numerical value as the outcome. To figure out a relationship between the input and output."
   ]
  },
  {
   "cell_type": "markdown",
   "id": "1d1da346",
   "metadata": {},
   "source": [
    "No, there are more supervised learning methods besides classification and regression. There are many forms of guided learning.\n",
    "For instance, with supervised learning, we may also forecast a series of variables, like time series. Sequence prediction is the process of predicting the following value in a series based on the values that came before it.Another illustration is structured prediction, which entails foretelling intricate output structures like a parse tree for sentences in natural language or a molecular structure for drug development.\n",
    "Further classification and regression approaches include multi-class classification (when there are more than two classes), multi-label classification (where each instance may belong to more than one class), and ordinal regression (where the output variable is ordinal)."
   ]
  }
 ],
 "metadata": {
  "kernelspec": {
   "display_name": "Python 3 (ipykernel)",
   "language": "python",
   "name": "python3"
  },
  "language_info": {
   "codemirror_mode": {
    "name": "ipython",
    "version": 3
   },
   "file_extension": ".py",
   "mimetype": "text/x-python",
   "name": "python",
   "nbconvert_exporter": "python",
   "pygments_lexer": "ipython3",
   "version": "3.9.12"
  },
  "toc": {
   "base_numbering": 1,
   "nav_menu": {},
   "number_sections": true,
   "sideBar": true,
   "skip_h1_title": false,
   "title_cell": "Table of Contents",
   "title_sidebar": "Contents",
   "toc_cell": false,
   "toc_position": {},
   "toc_section_display": true,
   "toc_window_display": false
  }
 },
 "nbformat": 4,
 "nbformat_minor": 5
}
