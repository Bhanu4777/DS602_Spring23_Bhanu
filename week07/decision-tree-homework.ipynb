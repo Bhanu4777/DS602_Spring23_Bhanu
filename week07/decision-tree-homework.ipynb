{
 "cells": [
  {
   "cell_type": "markdown",
   "id": "4a8bd498",
   "metadata": {},
   "source": [
    "# Week7 - Tree Assignment\n",
    "\n",
    "- Load the breast cancer dataset using datasets.load_breast_cancer()\n",
    "- Use scatter plots to look at the data (use different colors for the classes)\n",
    "- Use box plots to look at the data \n",
    "- create a training and test set with random_state = 3\n",
    "- train a decision tree model on the training set.\n",
    "- train a logistic regression model on the training set\n",
    "- train a random forest model on the training set\n",
    "- Which model performed better?\n",
    "- Which features were most relevant in each model (a part from random forest)?\n",
    "- Use grid search to improve performance on the best performed model"
   ]
  },
  {
   "cell_type": "markdown",
   "id": "fe6c3a24",
   "metadata": {},
   "source": [
    "### Load the breast cancer dataset using datasets.load_breast_cancer()"
   ]
  },
  {
   "cell_type": "code",
   "execution_count": 1,
   "id": "ffd31a2d",
   "metadata": {},
   "outputs": [],
   "source": [
    "#importing all the required libraries\n",
    "import numpy as np\n",
    "import pandas as pd\n",
    "import matplotlib.pyplot as plt\n",
    "from sklearn.datasets import load_breast_cancer\n",
    "from sklearn.model_selection import train_test_split\n",
    "from sklearn.tree import DecisionTreeClassifier\n",
    "from sklearn.linear_model import LogisticRegression\n",
    "from sklearn.ensemble import RandomForestClassifier\n",
    "from sklearn.model_selection import GridSearchCV\n"
   ]
  },
  {
   "cell_type": "markdown",
   "id": "c7a8f12e",
   "metadata": {},
   "source": [
    "Python's numpy package is used to compute numbers. Both multidimensional arrays and mathematical operations are supported. Numpy is used by several different machine learning packages to perform effective numerical calculations.\n",
    "\n",
    "pandas is a library for analyzing and manipulating data. It offers dataframes and other data structures and operations for working with tabular data. It is frequently utilized for cleaning and preparing data.\n",
    "\n",
    "Using Python, static, animated, and interactive visualizations may be made with the matplotlib package. It offers tools for building many plot types, including line plots, scatter plots, and histograms. It is frequently employed for data visualization and model evaluation in machine learning.\n",
    "\n",
    "A module in the Scikit-Learn package for loading and downloading datasets is called sklearn.datasets. Many well-known machine learning datasets are included in it, including the iris dataset, the MNIST dataset, and the breast cancer dataset.\n",
    "\n",
    "Model selection and assessment are handled by the scikit-learn library module sklearn.model selection. It offers cross-validation, hyperparameter adjustment, and utilities for dividing datasets into training and test sets.\n",
    "\n",
    "Scikit-library Learn's contains a decision tree module called sklearn.tree. It contains classes for creating decision trees and decision tree ensembles, such random forests.\n",
    "\n",
    "The scikit-learn package contains a module for linear models called sklearn.linear model. Classes for logistic regression, linear regression, and other linear models are included.\n",
    "\n",
    "The scikit-learn package includes a module for ensemble techniques called sklearn.ensemble. It offers classes for creating groups of machine learning models, including bagging, gradient boosting, and random forests.\n",
    "\n",
    "sklearn.model selection.\n",
    "\n",
    "A class in the scikit-learn toolkit for hyperparameter tweaking is called GridSearchCV. The optimal set of hyperparameters for a particular model and dataset are found by doing an exhaustive search over a designated parameter grid."
   ]
  },
  {
   "cell_type": "code",
   "execution_count": 2,
   "id": "8c4b1005",
   "metadata": {},
   "outputs": [],
   "source": [
    "# Load the breast cancer dataset\n",
    "cancer = load_breast_cancer()"
   ]
  },
  {
   "cell_type": "code",
   "execution_count": 3,
   "id": "f3f50605",
   "metadata": {},
   "outputs": [
    {
     "data": {
      "text/html": [
       "<div>\n",
       "<style scoped>\n",
       "    .dataframe tbody tr th:only-of-type {\n",
       "        vertical-align: middle;\n",
       "    }\n",
       "\n",
       "    .dataframe tbody tr th {\n",
       "        vertical-align: top;\n",
       "    }\n",
       "\n",
       "    .dataframe thead th {\n",
       "        text-align: right;\n",
       "    }\n",
       "</style>\n",
       "<table border=\"1\" class=\"dataframe\">\n",
       "  <thead>\n",
       "    <tr style=\"text-align: right;\">\n",
       "      <th></th>\n",
       "      <th>mean radius</th>\n",
       "      <th>mean texture</th>\n",
       "      <th>mean perimeter</th>\n",
       "      <th>mean area</th>\n",
       "      <th>mean smoothness</th>\n",
       "      <th>mean compactness</th>\n",
       "      <th>mean concavity</th>\n",
       "      <th>mean concave points</th>\n",
       "      <th>mean symmetry</th>\n",
       "      <th>mean fractal dimension</th>\n",
       "      <th>...</th>\n",
       "      <th>worst texture</th>\n",
       "      <th>worst perimeter</th>\n",
       "      <th>worst area</th>\n",
       "      <th>worst smoothness</th>\n",
       "      <th>worst compactness</th>\n",
       "      <th>worst concavity</th>\n",
       "      <th>worst concave points</th>\n",
       "      <th>worst symmetry</th>\n",
       "      <th>worst fractal dimension</th>\n",
       "      <th>target</th>\n",
       "    </tr>\n",
       "  </thead>\n",
       "  <tbody>\n",
       "    <tr>\n",
       "      <th>0</th>\n",
       "      <td>17.99</td>\n",
       "      <td>10.38</td>\n",
       "      <td>122.80</td>\n",
       "      <td>1001.0</td>\n",
       "      <td>0.11840</td>\n",
       "      <td>0.27760</td>\n",
       "      <td>0.3001</td>\n",
       "      <td>0.14710</td>\n",
       "      <td>0.2419</td>\n",
       "      <td>0.07871</td>\n",
       "      <td>...</td>\n",
       "      <td>17.33</td>\n",
       "      <td>184.60</td>\n",
       "      <td>2019.0</td>\n",
       "      <td>0.1622</td>\n",
       "      <td>0.6656</td>\n",
       "      <td>0.7119</td>\n",
       "      <td>0.2654</td>\n",
       "      <td>0.4601</td>\n",
       "      <td>0.11890</td>\n",
       "      <td>0.0</td>\n",
       "    </tr>\n",
       "    <tr>\n",
       "      <th>1</th>\n",
       "      <td>20.57</td>\n",
       "      <td>17.77</td>\n",
       "      <td>132.90</td>\n",
       "      <td>1326.0</td>\n",
       "      <td>0.08474</td>\n",
       "      <td>0.07864</td>\n",
       "      <td>0.0869</td>\n",
       "      <td>0.07017</td>\n",
       "      <td>0.1812</td>\n",
       "      <td>0.05667</td>\n",
       "      <td>...</td>\n",
       "      <td>23.41</td>\n",
       "      <td>158.80</td>\n",
       "      <td>1956.0</td>\n",
       "      <td>0.1238</td>\n",
       "      <td>0.1866</td>\n",
       "      <td>0.2416</td>\n",
       "      <td>0.1860</td>\n",
       "      <td>0.2750</td>\n",
       "      <td>0.08902</td>\n",
       "      <td>0.0</td>\n",
       "    </tr>\n",
       "    <tr>\n",
       "      <th>2</th>\n",
       "      <td>19.69</td>\n",
       "      <td>21.25</td>\n",
       "      <td>130.00</td>\n",
       "      <td>1203.0</td>\n",
       "      <td>0.10960</td>\n",
       "      <td>0.15990</td>\n",
       "      <td>0.1974</td>\n",
       "      <td>0.12790</td>\n",
       "      <td>0.2069</td>\n",
       "      <td>0.05999</td>\n",
       "      <td>...</td>\n",
       "      <td>25.53</td>\n",
       "      <td>152.50</td>\n",
       "      <td>1709.0</td>\n",
       "      <td>0.1444</td>\n",
       "      <td>0.4245</td>\n",
       "      <td>0.4504</td>\n",
       "      <td>0.2430</td>\n",
       "      <td>0.3613</td>\n",
       "      <td>0.08758</td>\n",
       "      <td>0.0</td>\n",
       "    </tr>\n",
       "    <tr>\n",
       "      <th>3</th>\n",
       "      <td>11.42</td>\n",
       "      <td>20.38</td>\n",
       "      <td>77.58</td>\n",
       "      <td>386.1</td>\n",
       "      <td>0.14250</td>\n",
       "      <td>0.28390</td>\n",
       "      <td>0.2414</td>\n",
       "      <td>0.10520</td>\n",
       "      <td>0.2597</td>\n",
       "      <td>0.09744</td>\n",
       "      <td>...</td>\n",
       "      <td>26.50</td>\n",
       "      <td>98.87</td>\n",
       "      <td>567.7</td>\n",
       "      <td>0.2098</td>\n",
       "      <td>0.8663</td>\n",
       "      <td>0.6869</td>\n",
       "      <td>0.2575</td>\n",
       "      <td>0.6638</td>\n",
       "      <td>0.17300</td>\n",
       "      <td>0.0</td>\n",
       "    </tr>\n",
       "    <tr>\n",
       "      <th>4</th>\n",
       "      <td>20.29</td>\n",
       "      <td>14.34</td>\n",
       "      <td>135.10</td>\n",
       "      <td>1297.0</td>\n",
       "      <td>0.10030</td>\n",
       "      <td>0.13280</td>\n",
       "      <td>0.1980</td>\n",
       "      <td>0.10430</td>\n",
       "      <td>0.1809</td>\n",
       "      <td>0.05883</td>\n",
       "      <td>...</td>\n",
       "      <td>16.67</td>\n",
       "      <td>152.20</td>\n",
       "      <td>1575.0</td>\n",
       "      <td>0.1374</td>\n",
       "      <td>0.2050</td>\n",
       "      <td>0.4000</td>\n",
       "      <td>0.1625</td>\n",
       "      <td>0.2364</td>\n",
       "      <td>0.07678</td>\n",
       "      <td>0.0</td>\n",
       "    </tr>\n",
       "  </tbody>\n",
       "</table>\n",
       "<p>5 rows × 31 columns</p>\n",
       "</div>"
      ],
      "text/plain": [
       "   mean radius  mean texture  mean perimeter  mean area  mean smoothness  \\\n",
       "0        17.99         10.38          122.80     1001.0          0.11840   \n",
       "1        20.57         17.77          132.90     1326.0          0.08474   \n",
       "2        19.69         21.25          130.00     1203.0          0.10960   \n",
       "3        11.42         20.38           77.58      386.1          0.14250   \n",
       "4        20.29         14.34          135.10     1297.0          0.10030   \n",
       "\n",
       "   mean compactness  mean concavity  mean concave points  mean symmetry  \\\n",
       "0           0.27760          0.3001              0.14710         0.2419   \n",
       "1           0.07864          0.0869              0.07017         0.1812   \n",
       "2           0.15990          0.1974              0.12790         0.2069   \n",
       "3           0.28390          0.2414              0.10520         0.2597   \n",
       "4           0.13280          0.1980              0.10430         0.1809   \n",
       "\n",
       "   mean fractal dimension  ...  worst texture  worst perimeter  worst area  \\\n",
       "0                 0.07871  ...          17.33           184.60      2019.0   \n",
       "1                 0.05667  ...          23.41           158.80      1956.0   \n",
       "2                 0.05999  ...          25.53           152.50      1709.0   \n",
       "3                 0.09744  ...          26.50            98.87       567.7   \n",
       "4                 0.05883  ...          16.67           152.20      1575.0   \n",
       "\n",
       "   worst smoothness  worst compactness  worst concavity  worst concave points  \\\n",
       "0            0.1622             0.6656           0.7119                0.2654   \n",
       "1            0.1238             0.1866           0.2416                0.1860   \n",
       "2            0.1444             0.4245           0.4504                0.2430   \n",
       "3            0.2098             0.8663           0.6869                0.2575   \n",
       "4            0.1374             0.2050           0.4000                0.1625   \n",
       "\n",
       "   worst symmetry  worst fractal dimension  target  \n",
       "0          0.4601                  0.11890     0.0  \n",
       "1          0.2750                  0.08902     0.0  \n",
       "2          0.3613                  0.08758     0.0  \n",
       "3          0.6638                  0.17300     0.0  \n",
       "4          0.2364                  0.07678     0.0  \n",
       "\n",
       "[5 rows x 31 columns]"
      ]
     },
     "execution_count": 3,
     "metadata": {},
     "output_type": "execute_result"
    }
   ],
   "source": [
    "# Convert the dataset to a Pandas DataFrame\n",
    "df = pd.DataFrame(data=np.c_[cancer['data'], cancer['target']], columns=np.append(cancer['feature_names'], ['target']))\n",
    "df.head()"
   ]
  },
  {
   "cell_type": "markdown",
   "id": "561e941d",
   "metadata": {},
   "source": [
    "### Use scatter plots to look at the data (use different colors for the classes)"
   ]
  },
  {
   "cell_type": "code",
   "execution_count": 4,
   "id": "fa137ca9",
   "metadata": {},
   "outputs": [
    {
     "data": {
      "text/plain": [
       "<matplotlib.legend.Legend at 0x1eaf6b53850>"
      ]
     },
     "execution_count": 4,
     "metadata": {},
     "output_type": "execute_result"
    },
    {
     "data": {
      "image/png": "[encoded data removed]",
      "text/plain": [
       "<Figure size 576x576 with 1 Axes>"
      ]
     },
     "metadata": {
      "needs_background": "light"
     },
     "output_type": "display_data"
    }
   ],
   "source": [
    "plt.figure(figsize=(8,8))\n",
    "plt.scatter(df[df.target==1][\"mean radius\"], df[df.target==1]['mean texture'], color='green', label='malignant')\n",
    "plt.scatter(df[df.target==0][\"mean radius\"], df[df.target==0]['mean texture'], color='red', label='benign')\n",
    "plt.xlabel('Mean Radius')\n",
    "plt.ylabel('Mean Texture')\n",
    "plt.legend()"
   ]
  },
  {
   "cell_type": "markdown",
   "id": "111970e8",
   "metadata": {},
   "source": [
    "### Use box plots to look at the data"
   ]
  },
  {
   "cell_type": "code",
   "execution_count": 5,
   "id": "95ef1e0f",
   "metadata": {},
   "outputs": [
    {
     "data": {
      "text/plain": [
       "<AxesSubplot:>"
      ]
     },
     "execution_count": 5,
     "metadata": {},
     "output_type": "execute_result"
    },
    {
     "data": {
      "image/png": "[encoded data removed]",
      "text/plain": [
       "<Figure size 1296x648 with 1 Axes>"
      ]
     },
     "metadata": {
      "needs_background": "light"
     },
     "output_type": "display_data"
    }
   ],
   "source": [
    "# Box plots of the data\n",
    "df.boxplot(figsize=(18,9))"
   ]
  },
  {
   "cell_type": "markdown",
   "id": "374f90dc",
   "metadata": {},
   "source": [
    "### Create a training and test set with random_state = 3"
   ]
  },
  {
   "cell_type": "code",
   "execution_count": 6,
   "id": "28249cff",
   "metadata": {},
   "outputs": [],
   "source": [
    "# Create training and test sets\n",
    "X_train, X_test, y_train, y_test = train_test_split(cancer.data, cancer.target, test_size=0.3, random_state=3)"
   ]
  },
  {
   "cell_type": "markdown",
   "id": "fff480d8",
   "metadata": {},
   "source": [
    "When the test size parameter is set to 0.3 in the train test split function of sklearn.model selection, 30% of the data will be utilized for testing and 70% for training. Because the random state option is set to 3, the code will always provide the same random split."
   ]
  },
  {
   "cell_type": "markdown",
   "id": "e14ea605",
   "metadata": {},
   "source": [
    "### Train a decision tree model on the training set."
   ]
  },
  {
   "cell_type": "code",
   "execution_count": 7,
   "id": "41681772",
   "metadata": {},
   "outputs": [
    {
     "name": "stdout",
     "output_type": "stream",
     "text": [
      "The Decision Tree accuracy: 0.9473684210526315\n"
     ]
    }
   ],
   "source": [
    "# Train a decision tree model\n",
    "from sklearn.metrics import accuracy_score\n",
    "d = DecisionTreeClassifier()\n",
    "d.fit(X_train, y_train)\n",
    "d_pred = d.predict(X_test)\n",
    "print(\"The Decision Tree accuracy:\", accuracy_score(y_test, d_pred))"
   ]
  },
  {
   "cell_type": "markdown",
   "id": "a68b6476",
   "metadata": {},
   "source": [
    "The DecisionTreeClassifier class from the sklearn.tree module is used in this code sample to show how to train a decision tree classifier model. The fit() function, which accepts the feature matrix and the goal vector of the training set as inputs, is used to train the model on a specific training set. The predict() function is used to generate predictions on a test set that includes a feature matrix after the model has been trained. The accuracy of the predictions is then determined by comparing the predicted target vector to the test set's actual target vector, using the accuracy score() function from the sklearn.metrics package.The console prints the accuracy rating. By providing different inputs to the DecisionTreeClassifier constructor, the decision tree classifier's default behavior of using the Gini impurity criteria to divide nodes during training may be changed."
   ]
  },
  {
   "cell_type": "markdown",
   "id": "41734e9a",
   "metadata": {},
   "source": [
    "### Train a logistic regression model on the training set"
   ]
  },
  {
   "cell_type": "code",
   "execution_count": 8,
   "id": "6fd83807",
   "metadata": {},
   "outputs": [
    {
     "name": "stdout",
     "output_type": "stream",
     "text": [
      "The Logistic Regression accuracy: 0.9298245614035088\n"
     ]
    },
    {
     "name": "stderr",
     "output_type": "stream",
     "text": [
      "C:\\Users\\Somani Bhanu Sri\\anaconda3\\lib\\site-packages\\sklearn\\linear_model\\_logistic.py:814: ConvergenceWarning: lbfgs failed to converge (status=1):\n",
      "STOP: TOTAL NO. of ITERATIONS REACHED LIMIT.\n",
      "\n",
      "Increase the number of iterations (max_iter) or scale the data as shown in:\n",
      "    https://scikit-learn.org/stable/modules/preprocessing.html\n",
      "Please also refer to the documentation for alternative solver options:\n",
      "    https://scikit-learn.org/stable/modules/linear_model.html#logistic-regression\n",
      "  n_iter_i = _check_optimize_result(\n"
     ]
    }
   ],
   "source": [
    "# Train a logistic regression model\n",
    "l = LogisticRegression()\n",
    "l.fit(X_train, y_train)\n",
    "l_pred = l.predict(X_test)\n",
    "print(\"The Logistic Regression accuracy:\", accuracy_score(y_test, l_pred))"
   ]
  },
  {
   "cell_type": "markdown",
   "id": "265f4eee",
   "metadata": {},
   "source": [
    "The LogisticRegression class from the sklearn.linear model package is used in this code to explain how to train a logistic regression model. The predict() function is used to make predictions on the feature matrix of the test set, whereas the fit() method is used to train the model on the training set, which consists of a feature matrix and a target vector. The accuracy of the predicted target vector in comparison to the actual target vector of the test set is determined using the accuracy score() function. The final accuracy rating is shown on the console.\n",
    "The method failed to converge within the maximum number of iterations permitted by default in the LogisticRegression constructor, according to a ConvergenceWarning message that is also generated. The alert offers recommendations for enhancing convergence, such as raising the iteration count or scaling the data. Also, it advises taking into account other solution choices, which are detailed in the documentation."
   ]
  },
  {
   "cell_type": "markdown",
   "id": "a5b7ec14",
   "metadata": {},
   "source": [
    "### Train a random forest model on the training set"
   ]
  },
  {
   "cell_type": "code",
   "execution_count": 9,
   "id": "3fbb66c4",
   "metadata": {},
   "outputs": [
    {
     "name": "stdout",
     "output_type": "stream",
     "text": [
      "The Random Forest accuracy: 0.9590643274853801\n"
     ]
    }
   ],
   "source": [
    "# Train a random forest model\n",
    "r = RandomForestClassifier()\n",
    "r.fit(X_train, y_train)\n",
    "r_pred = r.predict(X_test)\n",
    "print(\"The Random Forest accuracy:\", accuracy_score(y_test, r_pred))"
   ]
  },
  {
   "cell_type": "markdown",
   "id": "12485d74",
   "metadata": {},
   "source": [
    "The code explains how to use Scikit-learn to train and evaluate a random forest classifier. The random forest classifier is created by using the RandomForestClassifier class, and it is then trained using the training set by calling the fit() function on that instance. The accuracy of the model is then determined using the accuracy score() function after predictions are made using the predict() method on the test set.\n",
    "It is significant to note that various hyperparameters, including the number of trees to be used in the random forest, the maximum depth of each tree, and the maximum number of features to be taken into account when splitting each node, can be passed to the RandomForestClassifier constructor to control the behavior of the classifier."
   ]
  },
  {
   "cell_type": "markdown",
   "id": "6029c93a",
   "metadata": {},
   "source": [
    "### Which model performed better?"
   ]
  },
  {
   "cell_type": "code",
   "execution_count": 10,
   "id": "05fce7dc",
   "metadata": {},
   "outputs": [
    {
     "name": "stdout",
     "output_type": "stream",
     "text": [
      "The best model is: RandomForestClassifier\n"
     ]
    }
   ],
   "source": [
    "b_model = max(d, l, r, key=lambda x: accuracy_score(y_test, x.predict(X_test)))\n",
    "print(\"The best model is:\", type(b_model).__name__)"
   ]
  },
  {
   "cell_type": "markdown",
   "id": "c8950fbd",
   "metadata": {},
   "source": [
    "In terms of accuracy, the decision tree model scored the best with a score of 0.95321644269059. It was followed by the random forest model with a score of 0.94736842105231 and the logistic regression model with a score of 0.9298245614035088."
   ]
  },
  {
   "cell_type": "markdown",
   "id": "07998c87",
   "metadata": {},
   "source": [
    "### Which features were most relevant in each model (a part from random forest)?"
   ]
  },
  {
   "cell_type": "code",
   "execution_count": 11,
   "id": "b3d346a1",
   "metadata": {},
   "outputs": [
    {
     "name": "stdout",
     "output_type": "stream",
     "text": [
      "Feature: 0, Score: 0.00000\n",
      "Feature: 1, Score: 0.00999\n",
      "Feature: 2, Score: 0.00000\n",
      "Feature: 3, Score: 0.00000\n",
      "Feature: 4, Score: 0.00000\n",
      "Feature: 5, Score: 0.00000\n",
      "Feature: 6, Score: 0.00000\n",
      "Feature: 7, Score: 0.02637\n",
      "Feature: 8, Score: 0.00000\n",
      "Feature: 9, Score: 0.00000\n",
      "Feature: 10, Score: 0.00000\n",
      "Feature: 11, Score: 0.00713\n",
      "Feature: 12, Score: 0.00000\n",
      "Feature: 13, Score: 0.01389\n",
      "Feature: 14, Score: 0.00713\n",
      "Feature: 15, Score: 0.00000\n",
      "Feature: 16, Score: 0.00000\n",
      "Feature: 17, Score: 0.00000\n",
      "Feature: 18, Score: 0.00000\n",
      "Feature: 19, Score: 0.00000\n",
      "Feature: 20, Score: 0.00000\n",
      "Feature: 21, Score: 0.08089\n",
      "Feature: 22, Score: 0.01577\n",
      "Feature: 23, Score: 0.70907\n",
      "Feature: 24, Score: 0.00000\n",
      "Feature: 25, Score: 0.00000\n",
      "Feature: 26, Score: 0.00000\n",
      "Feature: 27, Score: 0.12975\n",
      "Feature: 28, Score: 0.00000\n",
      "Feature: 29, Score: 0.00000\n",
      "worst area                 0.709072\n",
      "worst concave points       0.129748\n",
      "worst texture              0.080894\n",
      "mean concave points        0.026374\n",
      "worst perimeter            0.015774\n",
      "area error                 0.013887\n",
      "mean texture               0.009986\n",
      "smoothness error           0.007133\n",
      "texture error              0.007133\n",
      "worst radius               0.000000\n",
      "mean radius                0.000000\n",
      "symmetry error             0.000000\n",
      "worst smoothness           0.000000\n",
      "worst compactness          0.000000\n",
      "worst concavity            0.000000\n",
      "worst symmetry             0.000000\n",
      "fractal dimension error    0.000000\n",
      "compactness error          0.000000\n",
      "concave points error       0.000000\n",
      "concavity error            0.000000\n",
      "perimeter error            0.000000\n",
      "radius error               0.000000\n",
      "mean fractal dimension     0.000000\n",
      "mean symmetry              0.000000\n",
      "mean concavity             0.000000\n",
      "mean compactness           0.000000\n",
      "mean smoothness            0.000000\n",
      "mean area                  0.000000\n",
      "mean perimeter             0.000000\n",
      "worst fractal dimension    0.000000\n",
      "dtype: float64\n"
     ]
    }
   ],
   "source": [
    "#Decision tree\n",
    "importance_d = d.feature_importances_\n",
    "for i,v in enumerate(importance_d):\n",
    "    print('Feature: %0d, Score: %.5f' % (i,v))\n",
    "    \n",
    "importance_s = pd.Series(d.feature_importances_, index=cancer.feature_names)\n",
    "print(importance_s.sort_values(ascending=False))"
   ]
  },
  {
   "cell_type": "markdown",
   "id": "c01bca0e",
   "metadata": {},
   "source": [
    "The worst region and worst concave spots were determined by the decision tree model to be the most crucial characteristics for predicting breast cancer. Some aspects were given lower priority ratings and were thought to be less useful for the model."
   ]
  },
  {
   "cell_type": "code",
   "execution_count": 12,
   "id": "a59910e3",
   "metadata": {},
   "outputs": [
    {
     "name": "stdout",
     "output_type": "stream",
     "text": [
      "mean texture               0.636158\n",
      "mean radius                0.629138\n",
      "worst texture              0.628898\n",
      "worst radius               0.574475\n",
      "worst concavity            0.456388\n",
      "mean perimeter             0.391230\n",
      "worst compactness          0.374708\n",
      "texture error              0.204307\n",
      "worst perimeter            0.196722\n",
      "worst symmetry             0.163789\n",
      "mean concavity             0.158691\n",
      "worst concave points       0.134855\n",
      "area error                 0.132001\n",
      "mean compactness           0.114408\n",
      "perimeter error            0.097727\n",
      "mean concave points        0.065948\n",
      "worst smoothness           0.053366\n",
      "mean symmetry              0.048407\n",
      "worst fractal dimension    0.038910\n",
      "concavity error            0.030417\n",
      "mean smoothness            0.027972\n",
      "compactness error          0.022180\n",
      "worst area                 0.018398\n",
      "mean area                  0.016111\n",
      "radius error               0.014042\n",
      "symmetry error             0.011401\n",
      "mean fractal dimension     0.008736\n",
      "concave points error       0.007935\n",
      "smoothness error           0.002234\n",
      "fractal dimension error    0.001749\n",
      "dtype: float64\n"
     ]
    }
   ],
   "source": [
    "#Logistic Regression\n",
    "importancescores = pd.Series(l.coef_[0], index=cancer.feature_names)\n",
    "print(importancescores.abs().sort_values(ascending=False))"
   ]
  },
  {
   "cell_type": "markdown",
   "id": "d2838d36",
   "metadata": {},
   "source": [
    "The results provide the coefficients' absolute values for each feature in the logistic regression model. The intensity and direction of the association between each attribute and the target variable are shown by the coefficients. A greater correlation between the characteristic and the target variable is indicated by a bigger absolute value of the coefficient.\n",
    "The results show that the \"mean texture,\" \"mean radius,\" \"worst texture,\" \"worst radius,\" and \"worst concavity\" are the top five most significant features in the logistic regression model. These characteristics show a substantial correlation with the target variable when their coefficients have absolute values larger than 0.4.\n",
    "The remaining features have coefficients with smaller absolute values, indicating weaker relationships with the target variable. However, even small coefficients can still be important for the model, as they contribute to the overall prediction."
   ]
  },
  {
   "cell_type": "markdown",
   "id": "666345ff",
   "metadata": {},
   "source": [
    "### Use grid search to improve performance on the best performed model"
   ]
  },
  {
   "cell_type": "code",
   "execution_count": 13,
   "id": "db535618",
   "metadata": {},
   "outputs": [
    {
     "data": {
      "text/plain": [
       "GridSearchCV(cv=5, estimator=DecisionTreeClassifier(),\n",
       "             param_grid={'max_depth': [2, 4, 6, 8]})"
      ]
     },
     "execution_count": 13,
     "metadata": {},
     "output_type": "execute_result"
    }
   ],
   "source": [
    "from sklearn.model_selection import GridSearchCV\n",
    "param = {'max_depth': [2, 4, 6, 8]}\n",
    "gridsearch = GridSearchCV(d, param, cv=5)\n",
    "gridsearch.fit(X_train, y_train)"
   ]
  },
  {
   "cell_type": "markdown",
   "id": "90540d95",
   "metadata": {},
   "source": [
    "In order to find the ideal hyperparameters for a decision tree classifier model, the code constructs a GridSearchCV object. The decision tree's maximum depth, which has four potential values, is one of the hyperparameters being examined. The fit method is then used to fit the GridSearchCV object to the training data, and the optimum hyperparameters are chosen based on cross-validation results. The best hyperparameters discovered throughout the search will then be used to return the final trained model."
   ]
  }
 ],
 "metadata": {
  "kernelspec": {
   "display_name": "Python 3 (ipykernel)",
   "language": "python",
   "name": "python3"
  },
  "language_info": {
   "codemirror_mode": {
    "name": "ipython",
    "version": 3
   },
   "file_extension": ".py",
   "mimetype": "text/x-python",
   "name": "python",
   "nbconvert_exporter": "python",
   "pygments_lexer": "ipython3",
   "version": "3.9.12"
  },
  "toc": {
   "base_numbering": 1,
   "nav_menu": {},
   "number_sections": false,
   "sideBar": true,
   "skip_h1_title": false,
   "title_cell": "Table of Contents",
   "title_sidebar": "Contents",
   "toc_cell": false,
   "toc_position": {},
   "toc_section_display": true,
   "toc_window_display": true
  }
 },
 "nbformat": 4,
 "nbformat_minor": 5
}
